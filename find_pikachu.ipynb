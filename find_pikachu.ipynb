{
 "cells": [
  {
   "cell_type": "code",
   "execution_count": 2,
   "source": [
    "import numpy as np\r\n",
    "import matplotlib.pyplot as plt\r\n",
    "import cv2 as cv\r\n",
    "import os"
   ],
   "outputs": [],
   "metadata": {}
  },
  {
   "cell_type": "code",
   "execution_count": 3,
   "source": [
    "pwd = os.getcwd()"
   ],
   "outputs": [],
   "metadata": {}
  },
  {
   "cell_type": "code",
   "execution_count": 4,
   "source": [
    "source1 = cv.imread(r'D:/1. Active Projects/Data Analysis/Github Repository/Find_Objects_Image_Templating_Open_CV\\Find_Hidden_Objects_OpenCV_Image_Template/source_images/source_1/source1_scene.png', cv.IMREAD_COLOR)\r\n",
    "source1_object = cv.imread(r'D:/1. Active Projects/Data Analysis/Github Repository/Find_Objects_Image_Templating_Open_CV\\Find_Hidden_Objects_OpenCV_Image_Template/source_images/source_1/source1_object.png', cv.IMREAD_COLOR)\r\n",
    "source1_copy = source1.copy()\r\n",
    "w, h = source1_object.shape[::-1]\r\n"
   ],
   "outputs": [],
   "metadata": {}
  },
  {
   "cell_type": "code",
   "execution_count": 4,
   "source": [
    "cv.imshow('Scene',source1)\r\n",
    "cv.waitKey(0)\r\n",
    "cv.destroyAllWindows()"
   ],
   "outputs": [],
   "metadata": {}
  },
  {
   "cell_type": "code",
   "execution_count": 31,
   "source": [
    "cv.imshow('OBJECT',source1_object)\r\n",
    "cv.waitKey(0)\r\n",
    "cv.destroyAllWindows()"
   ],
   "outputs": [],
   "metadata": {}
  },
  {
   "cell_type": "code",
   "execution_count": 18,
   "source": [
    "tmmatch = cv.matchTemplate(source1, source1_object, cv.TM_CCOEFF_NORMED)"
   ],
   "outputs": [],
   "metadata": {}
  },
  {
   "cell_type": "code",
   "execution_count": 19,
   "source": [
    "cv.imshow('Result', tmmatch)\r\n",
    "cv.waitKey()\r\n",
    "cv.destroyAllWindows()"
   ],
   "outputs": [],
   "metadata": {}
  },
  {
   "cell_type": "code",
   "execution_count": 6,
   "source": [
    "min_val, max_val, min_loc, max_loc = cv.minMaxLoc(tmmatch)"
   ],
   "outputs": [],
   "metadata": {}
  },
  {
   "cell_type": "code",
   "execution_count": 7,
   "source": [
    "max_loc"
   ],
   "outputs": [
    {
     "output_type": "execute_result",
     "data": {
      "text/plain": [
       "(60, 546)"
      ]
     },
     "metadata": {},
     "execution_count": 7
    }
   ],
   "metadata": {}
  },
  {
   "cell_type": "code",
   "execution_count": 8,
   "source": [
    "max_val"
   ],
   "outputs": [
    {
     "output_type": "execute_result",
     "data": {
      "text/plain": [
       "112161432.0"
      ]
     },
     "metadata": {},
     "execution_count": 8
    }
   ],
   "metadata": {}
  },
  {
   "cell_type": "code",
   "execution_count": 10,
   "source": [
    "w = source1.shape[1]\r\n",
    "h = source1_object.shape[0]"
   ],
   "outputs": [],
   "metadata": {}
  },
  {
   "cell_type": "code",
   "execution_count": 11,
   "source": [
    "cv.rectangle(source1, max_loc, (max_loc[0] + w, max_loc[1] + h), (0,255,255), 2)"
   ],
   "outputs": [
    {
     "output_type": "execute_result",
     "data": {
      "text/plain": [
       "array([[[0, 0, 0],\n",
       "        [0, 0, 0],\n",
       "        [0, 0, 0],\n",
       "        ...,\n",
       "        [0, 0, 0],\n",
       "        [0, 0, 0],\n",
       "        [0, 0, 0]],\n",
       "\n",
       "       [[0, 0, 0],\n",
       "        [0, 0, 0],\n",
       "        [0, 0, 0],\n",
       "        ...,\n",
       "        [0, 0, 0],\n",
       "        [0, 0, 0],\n",
       "        [0, 0, 0]],\n",
       "\n",
       "       [[0, 0, 0],\n",
       "        [0, 0, 0],\n",
       "        [0, 0, 0],\n",
       "        ...,\n",
       "        [0, 0, 0],\n",
       "        [0, 0, 0],\n",
       "        [0, 0, 0]],\n",
       "\n",
       "       ...,\n",
       "\n",
       "       [[0, 0, 0],\n",
       "        [0, 0, 0],\n",
       "        [0, 0, 0],\n",
       "        ...,\n",
       "        [0, 0, 0],\n",
       "        [0, 0, 0],\n",
       "        [0, 0, 0]],\n",
       "\n",
       "       [[0, 0, 0],\n",
       "        [0, 0, 0],\n",
       "        [0, 0, 0],\n",
       "        ...,\n",
       "        [0, 0, 0],\n",
       "        [0, 0, 0],\n",
       "        [0, 0, 0]],\n",
       "\n",
       "       [[0, 0, 0],\n",
       "        [0, 0, 0],\n",
       "        [0, 0, 0],\n",
       "        ...,\n",
       "        [0, 0, 0],\n",
       "        [0, 0, 0],\n",
       "        [0, 0, 0]]], dtype=uint8)"
      ]
     },
     "metadata": {},
     "execution_count": 11
    }
   ],
   "metadata": {}
  },
  {
   "cell_type": "code",
   "execution_count": 12,
   "source": [
    "threshold = .60"
   ],
   "outputs": [],
   "metadata": {}
  },
  {
   "cell_type": "code",
   "execution_count": 13,
   "source": [
    "yloc, xloc = np.where(tmmatch >= threshold)\r\n"
   ],
   "outputs": [],
   "metadata": {}
  },
  {
   "cell_type": "code",
   "execution_count": 14,
   "source": [
    "len(xloc)"
   ],
   "outputs": [
    {
     "output_type": "execute_result",
     "data": {
      "text/plain": [
       "762762"
      ]
     },
     "metadata": {},
     "execution_count": 14
    }
   ],
   "metadata": {}
  },
  {
   "cell_type": "code",
   "execution_count": 15,
   "source": [
    "for (x, y) in zip(xloc, yloc):\r\n",
    "    cv.rectangle(source1, (x, y), (x + w, y + h), (0,255,255), 2)"
   ],
   "outputs": [],
   "metadata": {}
  },
  {
   "cell_type": "code",
   "execution_count": 67,
   "source": [
    "cv.imshow('ketemu', source1)\r\n",
    "cv.waitKey()\r\n",
    "cv.destroyAllWindows()"
   ],
   "outputs": [],
   "metadata": {}
  },
  {
   "cell_type": "code",
   "execution_count": null,
   "source": [
    "methods = ['cv.TM_CCOEFF', 'cv.TM_CCOEFF_NORMED', 'cv.TM_CCORR',\r\n",
    "            'cv.TM_CCORR_NORMED', 'cv.TM_SQDIFF', 'cv.TM_SQDIFF_NORMED']\r\n",
    "for meth in methods:\r\n",
    "    source1_copy = source1_copy.copy()\r\n",
    "    method = eval(meth)\r\n",
    "    # Apply template Matching\r\n",
    "    res = cv.matchTemplate(img,template,method)\r\n",
    "    min_val, max_val, min_loc, max_loc = cv.minMaxLoc(res)\r\n",
    "    # If the method is TM_SQDIFF or TM_SQDIFF_NORMED, take minimum\r\n",
    "    if method in [cv.TM_SQDIFF, cv.TM_SQDIFF_NORMED]:\r\n",
    "        top_left = min_loc\r\n",
    "    else:\r\n",
    "        top_left = max_loc\r\n",
    "    bottom_right = (top_left[0] + w, top_left[1] + h)\r\n",
    "    cv.rectangle(img,top_left, bottom_right, 255, 2)\r\n",
    "    plt.subplot(121),plt.imshow(res,cmap = 'gray')\r\n",
    "    plt.title('Matching Result'), plt.xticks([]), plt.yticks([])\r\n",
    "    plt.subplot(122),plt.imshow(img,cmap = 'gray')\r\n",
    "    plt.title('Detected Point'), plt.xticks([]), plt.yticks([])\r\n",
    "    plt.suptitle(meth)\r\n",
    "    plt.show()"
   ],
   "outputs": [],
   "metadata": {}
  }
 ],
 "metadata": {
  "orig_nbformat": 4,
  "language_info": {
   "name": "python",
   "version": "3.7.10",
   "mimetype": "text/x-python",
   "codemirror_mode": {
    "name": "ipython",
    "version": 3
   },
   "pygments_lexer": "ipython3",
   "nbconvert_exporter": "python",
   "file_extension": ".py"
  },
  "kernelspec": {
   "name": "python3",
   "display_name": "Python 3.7.10 64-bit ('minitensor': conda)"
  },
  "interpreter": {
   "hash": "92af2963c3179c2cc2079b80b82ebecdaebdbd45cfd776757a3b6f6ad79ab9ce"
  }
 },
 "nbformat": 4,
 "nbformat_minor": 2
}